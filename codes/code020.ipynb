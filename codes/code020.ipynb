{
 "cells": [
  {
   "cell_type": "markdown",
   "metadata": {},
   "source": [
    "# ¿Cómo continuar tu carrera profesional con Python?"
   ]
  },
  {
   "cell_type": "markdown",
   "metadata": {},
   "source": [
    "Hemos llegado al final del curso. Hemos aprendido a instalar Python de forma local, ahora podemos correr proyectos profesionalmente. \n",
    "\n",
    "Utilizamos muchas librerías y entornos virtuales para aislar módulos y aplicaciones, después pudimos crear un servidor web utilizando Fast API.\n",
    "\n",
    "Ahora podemos enfocarnos en los siguientes campos:\n",
    "- Desarrollo Web: Puedes crear microservicios conectados a bases de datos.\n",
    "- Data: Puedes hacer análisis de grandes volúmenes de datos, estadística e Inteligencia Artificial\n",
    "- DevOPS.\n"
   ]
  }
 ],
 "metadata": {
  "language_info": {
   "name": "python"
  }
 },
 "nbformat": 4,
 "nbformat_minor": 2
}
