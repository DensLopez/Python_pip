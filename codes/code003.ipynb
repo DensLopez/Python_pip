{
 "cells": [
  {
   "cell_type": "markdown",
   "metadata": {},
   "source": [
    "# Instalación en Mac"
   ]
  },
  {
   "cell_type": "markdown",
   "metadata": {},
   "source": [
    "Vamos a ver cuales son los pasos para alguien que tiene Mac.\n",
    "\n",
    "Lo normal es que ya tengas instalado python\n",
    "\n",
    "Abrimos la terminal(iTerm) y ejecutamos lo siguiente:\n",
    "\n",
    "```bash\n",
    "python  #Nos dice que tenemos instalado Python en su versión 2, si es que lo tenemos instalado. Sal con exit()\n",
    "\n",
    "python3 #Nos dice que tenemos la versión 3\n",
    "\n",
    "#Instalar herramientas python en Mac\n",
    "sudo xcode-select --install     #Nos pide la contraseña\n",
    "sudo xcode-select --reset       #Restea la configuración \n",
    "\n",
    "#Instalar gestor de dependencias de Python en Mac\n",
    "brew install python3\n",
    "#Cierra la terminal y vuelve a abrir\n",
    "\n",
    "#Verificar instalación \n",
    "python3 --version\n",
    "\n",
    "```\n",
    "\n",
    "Recuerda que en la maquina tenemos 2 versiones de Python. Python 2 y Python 3, es posible tenerlas sin problema alguno."
   ]
  }
 ],
 "metadata": {
  "language_info": {
   "name": "python"
  }
 },
 "nbformat": 4,
 "nbformat_minor": 2
}
