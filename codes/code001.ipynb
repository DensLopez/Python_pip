{
 "cells": [
  {
   "cell_type": "markdown",
   "metadata": {},
   "source": [
    "# Python en tu propio entorno de desarrollo local"
   ]
  },
  {
   "cell_type": "markdown",
   "metadata": {},
   "source": [
    "Para este curso se necesitan habilidades de Python, Git, terminal y otros recursos.\n",
    "\n",
    "Ocuparemos una terminal base UNIX:\n",
    "\n",
    "Además ocuparemos los siguientes comando:"
   ]
  },
  {
   "cell_type": "markdown",
   "metadata": {},
   "source": [
    "## IMPORTANTE:\n",
    "A los comandos le antecederá un \"!\" cuando se corren en notebooks, debido a que necesitan esto para diferenciarlos del código de Python"
   ]
  },
  {
   "cell_type": "code",
   "execution_count": 1,
   "metadata": {},
   "outputs": [
    {
     "name": "stdout",
     "output_type": "stream",
     "text": [
      "/home/dens/Dens/Codes/Python_PIP/codes\n"
     ]
    }
   ],
   "source": [
    "!pwd"
   ]
  },
  {
   "cell_type": "markdown",
   "metadata": {},
   "source": [
    "el comando `pwd` me dice en que ubicación de la maquina me encuentro."
   ]
  },
  {
   "cell_type": "markdown",
   "metadata": {},
   "source": [
    "### Comandos importantes de bash:\n",
    "\n",
    "```bash\n",
    "mkdir\n",
    "ll\n",
    "cd directorio\n",
    "clear\n",
    "touch\n",
    "```"
   ]
  },
  {
   "cell_type": "code",
   "execution_count": 4,
   "metadata": {},
   "outputs": [
    {
     "name": "stdout",
     "output_type": "stream",
     "text": [
      "total 16\n",
      "-rw-r--r-- 1 dens dens 2514 Aug  9 03:27 code001.ipynb\n",
      "drwxr-xr-x 2 dens dens 4096 Jul  8 23:49 dataset\n",
      "drwxr-xr-x 2 dens dens 4096 Jul  8 23:49 html\n",
      "drwxr-xr-x 2 dens dens 4096 Aug  9 01:49 images\n"
     ]
    }
   ],
   "source": [
    "!ls -l"
   ]
  },
  {
   "cell_type": "markdown",
   "metadata": {},
   "source": [
    "##### **Explicación**\n",
    "- mkdir: Me crea un directorio\n",
    "- ll: Es simplemente una forma abreviada y conveniente de usar ls -l para obtener información más completa sobre los archivos y directorios en un directorio dado.\n",
    "- cd: Change Directory o cambiar directorio.\n",
    "- clear: limpia la pantalla\n",
    "- ctrl + l: limpia pantalla\n",
    "- touch: crea archivos"
   ]
  },
  {
   "cell_type": "markdown",
   "metadata": {},
   "source": [
    "### Comandos importantes de Git\n",
    "```git\n",
    "git init\n",
    "git add --all\n",
    "git commit -m \"Mensaje de commit\"\n",
    "git log\n",
    "git status \n",
    "git pull origin main\n",
    "git push origin main\n",
    "```"
   ]
  },
  {
   "cell_type": "markdown",
   "metadata": {},
   "source": [
    "##### **Explicación**\n",
    "- **git init** Crea un repositorio.\n",
    "- **git add --all** Añade todos los archivos al stage, antes de commit.\n",
    "- **git commit -m \"Mensaje de commit\"** Crea un commit con un mensaje.\n",
    "- **git log** Me despliega una lista con información de los commits.\n",
    "- **git status** Me da el estado actual del repositorio.\n",
    "- **git pull origin main** Trae los archivos del repositorio remoto.\n",
    "- **git push origin main** Añade los nuevos cambios del repositorio local al remoto"
   ]
  }
 ],
 "metadata": {
  "kernelspec": {
   "display_name": "base",
   "language": "python",
   "name": "python3"
  },
  "language_info": {
   "codemirror_mode": {
    "name": "ipython",
    "version": 3
   },
   "file_extension": ".py",
   "mimetype": "text/x-python",
   "name": "python",
   "nbconvert_exporter": "python",
   "pygments_lexer": "ipython3",
   "version": "3.12.4"
  }
 },
 "nbformat": 4,
 "nbformat_minor": 2
}
